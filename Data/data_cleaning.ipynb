{
 "cells": [
  {
   "cell_type": "code",
   "execution_count": 29,
   "id": "2af2672f",
   "metadata": {},
   "outputs": [],
   "source": [
    "#first lets look at the data and analyse the things that can be cleaned \n"
   ]
  },
  {
   "cell_type": "code",
   "execution_count": 30,
   "id": "bedcdf3f",
   "metadata": {},
   "outputs": [],
   "source": [
    "from datetime import datetime"
   ]
  },
  {
   "cell_type": "code",
   "execution_count": 31,
   "id": "f5ecc414",
   "metadata": {},
   "outputs": [
    {
     "data": {
      "text/html": [
       "<div>\n",
       "<style scoped>\n",
       "    .dataframe tbody tr th:only-of-type {\n",
       "        vertical-align: middle;\n",
       "    }\n",
       "\n",
       "    .dataframe tbody tr th {\n",
       "        vertical-align: top;\n",
       "    }\n",
       "\n",
       "    .dataframe thead th {\n",
       "        text-align: right;\n",
       "    }\n",
       "</style>\n",
       "<table border=\"1\" class=\"dataframe\">\n",
       "  <thead>\n",
       "    <tr style=\"text-align: right;\">\n",
       "      <th></th>\n",
       "      <th>name</th>\n",
       "      <th>year</th>\n",
       "      <th>selling_price</th>\n",
       "      <th>km_driven</th>\n",
       "      <th>fuel</th>\n",
       "      <th>seller_type</th>\n",
       "      <th>transmission</th>\n",
       "      <th>owner</th>\n",
       "      <th>mileage(km/ltr/kg)</th>\n",
       "      <th>engine</th>\n",
       "      <th>max_power</th>\n",
       "      <th>seats</th>\n",
       "    </tr>\n",
       "  </thead>\n",
       "  <tbody>\n",
       "    <tr>\n",
       "      <th>0</th>\n",
       "      <td>Maruti Swift Dzire VDI</td>\n",
       "      <td>2014</td>\n",
       "      <td>450000</td>\n",
       "      <td>145500</td>\n",
       "      <td>Diesel</td>\n",
       "      <td>Individual</td>\n",
       "      <td>Manual</td>\n",
       "      <td>First Owner</td>\n",
       "      <td>23.40</td>\n",
       "      <td>1248.0</td>\n",
       "      <td>74</td>\n",
       "      <td>5.0</td>\n",
       "    </tr>\n",
       "    <tr>\n",
       "      <th>1</th>\n",
       "      <td>Skoda Rapid 1.5 TDI Ambition</td>\n",
       "      <td>2014</td>\n",
       "      <td>370000</td>\n",
       "      <td>120000</td>\n",
       "      <td>Diesel</td>\n",
       "      <td>Individual</td>\n",
       "      <td>Manual</td>\n",
       "      <td>Second Owner</td>\n",
       "      <td>21.14</td>\n",
       "      <td>1498.0</td>\n",
       "      <td>103.52</td>\n",
       "      <td>5.0</td>\n",
       "    </tr>\n",
       "    <tr>\n",
       "      <th>2</th>\n",
       "      <td>Honda City 2017-2020 EXi</td>\n",
       "      <td>2006</td>\n",
       "      <td>158000</td>\n",
       "      <td>140000</td>\n",
       "      <td>Petrol</td>\n",
       "      <td>Individual</td>\n",
       "      <td>Manual</td>\n",
       "      <td>Third Owner</td>\n",
       "      <td>17.70</td>\n",
       "      <td>1497.0</td>\n",
       "      <td>78</td>\n",
       "      <td>5.0</td>\n",
       "    </tr>\n",
       "    <tr>\n",
       "      <th>3</th>\n",
       "      <td>Hyundai i20 Sportz Diesel</td>\n",
       "      <td>2010</td>\n",
       "      <td>225000</td>\n",
       "      <td>127000</td>\n",
       "      <td>Diesel</td>\n",
       "      <td>Individual</td>\n",
       "      <td>Manual</td>\n",
       "      <td>First Owner</td>\n",
       "      <td>23.00</td>\n",
       "      <td>1396.0</td>\n",
       "      <td>90</td>\n",
       "      <td>5.0</td>\n",
       "    </tr>\n",
       "    <tr>\n",
       "      <th>4</th>\n",
       "      <td>Maruti Swift VXI BSIII</td>\n",
       "      <td>2007</td>\n",
       "      <td>130000</td>\n",
       "      <td>120000</td>\n",
       "      <td>Petrol</td>\n",
       "      <td>Individual</td>\n",
       "      <td>Manual</td>\n",
       "      <td>First Owner</td>\n",
       "      <td>16.10</td>\n",
       "      <td>1298.0</td>\n",
       "      <td>88.2</td>\n",
       "      <td>5.0</td>\n",
       "    </tr>\n",
       "  </tbody>\n",
       "</table>\n",
       "</div>"
      ],
      "text/plain": [
       "                           name  year  selling_price  km_driven    fuel  \\\n",
       "0        Maruti Swift Dzire VDI  2014         450000     145500  Diesel   \n",
       "1  Skoda Rapid 1.5 TDI Ambition  2014         370000     120000  Diesel   \n",
       "2      Honda City 2017-2020 EXi  2006         158000     140000  Petrol   \n",
       "3     Hyundai i20 Sportz Diesel  2010         225000     127000  Diesel   \n",
       "4        Maruti Swift VXI BSIII  2007         130000     120000  Petrol   \n",
       "\n",
       "  seller_type transmission         owner  mileage(km/ltr/kg)  engine  \\\n",
       "0  Individual       Manual   First Owner               23.40  1248.0   \n",
       "1  Individual       Manual  Second Owner               21.14  1498.0   \n",
       "2  Individual       Manual   Third Owner               17.70  1497.0   \n",
       "3  Individual       Manual   First Owner               23.00  1396.0   \n",
       "4  Individual       Manual   First Owner               16.10  1298.0   \n",
       "\n",
       "  max_power  seats  \n",
       "0        74    5.0  \n",
       "1    103.52    5.0  \n",
       "2        78    5.0  \n",
       "3        90    5.0  \n",
       "4      88.2    5.0  "
      ]
     },
     "execution_count": 31,
     "metadata": {},
     "output_type": "execute_result"
    }
   ],
   "source": [
    "import pandas as pd  #This is a really popular python library used for importing and analysing the data\n",
    "\n",
    "df = pd.read_csv(\"car.csv\")  #reads from the file car.csv\n",
    "df.head() #displays the first 5 elements from the top in a proper format\n"
   ]
  },
  {
   "cell_type": "code",
   "execution_count": 32,
   "id": "67a32353",
   "metadata": {},
   "outputs": [],
   "source": [
    "df.rename(columns={'mileage(km/ltr/kg)': 'mileage'}, inplace=True) #renaming for better readability\n"
   ]
  },
  {
   "cell_type": "code",
   "execution_count": 33,
   "id": "e0b6dac3",
   "metadata": {},
   "outputs": [
    {
     "name": "stdout",
     "output_type": "stream",
     "text": [
      "Fuel Types: ['Diesel' 'Petrol' 'LPG' 'CNG']\n",
      "Owner Types: ['First Owner' 'Second Owner' 'Third Owner' 'Fourth & Above Owner'\n",
      " 'Test Drive Car']\n",
      "Transmission Types: ['Manual' 'Automatic']\n",
      "Seller Types ['Individual' 'Dealer' 'Trustmark Dealer']\n"
     ]
    }
   ],
   "source": [
    "#Since we are not able to get enough information just from these 5 datas, we will look at some more using\n",
    "df.head(50)\n",
    "\n",
    "\n",
    "#Just by looking at it, We can see a few information. Fuel type can be Disel, Petrol, LPG\n",
    "#seller_type can be either individual or Dealer\n",
    "#or to make life simpler, we can just the library functions of pandas\n",
    "\n",
    "print(\"Fuel Types:\", df['fuel'].unique()) \n",
    "print(\"Owner Types:\", df['owner'].unique())\n",
    "print(\"Transmission Types:\", df['transmission'].unique()) \n",
    "print(\"Seller Types\", df[\"seller_type\"].unique())\n",
    "\n",
    "\n",
    "#These basically scan through the entire dataset, and get all the unique values in the sepcific column that we have mentioned\n"
   ]
  },
  {
   "cell_type": "code",
   "execution_count": 34,
   "id": "a8cef47c",
   "metadata": {},
   "outputs": [],
   "source": [
    "#Before cleaning data, lets use some LLM's (Chatgpt and Claude.ai) to understand each columns better\n",
    "\n",
    "#The first question I asked is, \"which of the data columns will have a significant impact on the selling_price?\" \n",
    "#year: Newer cars usually sell for more. Older ones depreciate. A derived feature like car_age = current_year - year will be even more useful.\n",
    "#years_drived: More kilometers driven = more wear and tear = usually lower price.\n",
    "#owner: A first-owner car is usually priced higher than a third- or fourth-owner car.\n",
    "\n",
    "#These three are the major ones affecting the price in a significant manner\n"
   ]
  },
  {
   "cell_type": "code",
   "execution_count": 35,
   "id": "8ea48322",
   "metadata": {},
   "outputs": [],
   "source": [
    "#now to clean the data, first we will handle the normal procedures\n",
    "\n",
    "#Removing duplicates, removing empty values, Cinverting datatypes"
   ]
  },
  {
   "cell_type": "code",
   "execution_count": 36,
   "id": "fae907e9",
   "metadata": {},
   "outputs": [
    {
     "data": {
      "text/plain": [
       "0       11\n",
       "1       11\n",
       "2       19\n",
       "3       15\n",
       "4       18\n",
       "        ..\n",
       "8123    12\n",
       "8124    18\n",
       "8125    16\n",
       "8126    12\n",
       "8127    12\n",
       "Name: car_age, Length: 8128, dtype: int64"
      ]
     },
     "execution_count": 36,
     "metadata": {},
     "output_type": "execute_result"
    }
   ],
   "source": [
    "#first we convert the year to car age for easier predictions\n",
    "df['car_age'] = datetime.now().year - df['year']\n",
    "df['car_age']"
   ]
  },
  {
   "cell_type": "code",
   "execution_count": 37,
   "id": "0b458242",
   "metadata": {},
   "outputs": [
    {
     "name": "stdout",
     "output_type": "stream",
     "text": [
      "Duplicate rows: 1202\n"
     ]
    }
   ],
   "source": [
    "#removing duplicates and empty/null values\n",
    "\n",
    "\n",
    "print(\"Duplicate rows:\", df.duplicated().sum()) #checking the number of duplicate rows in the dataset (duplicate rows just add pressure while training, so we remove it)\n",
    "df.drop_duplicates(inplace=True) #removing/dropping duplicate rows from the dataset\n",
    "\n",
    "\n",
    "\n"
   ]
  },
  {
   "cell_type": "code",
   "execution_count": 38,
   "id": "70a07fc7",
   "metadata": {},
   "outputs": [
    {
     "name": "stdout",
     "output_type": "stream",
     "text": [
      "name               0\n",
      "year               0\n",
      "selling_price      0\n",
      "km_driven          0\n",
      "fuel               0\n",
      "seller_type        0\n",
      "transmission       0\n",
      "owner              0\n",
      "mileage          208\n",
      "engine           208\n",
      "max_power        205\n",
      "seats            208\n",
      "car_age            0\n",
      "dtype: int64\n"
     ]
    }
   ],
   "source": [
    "print(df.isnull().sum()) \n",
    "df.dropna(inplace=True)"
   ]
  },
  {
   "cell_type": "code",
   "execution_count": 39,
   "id": "5ce8ff73",
   "metadata": {},
   "outputs": [],
   "source": [
    "#checking the datatype of each column to see if any columns needs changes\n",
    "df.dtypes\n",
    "\n",
    "#since max_power is in object, we will convert it into float datatype\n",
    "df['max_power'] = df['max_power'].astype(str).str.extract(r'(\\d+\\.\\d+|\\d+)').astype(float) #uses regex to pull out only the numeric part and converts it completely to float dtype\n"
   ]
  },
  {
   "cell_type": "code",
   "execution_count": 40,
   "id": "b21d372a",
   "metadata": {},
   "outputs": [
    {
     "data": {
      "text/plain": [
       "name              object\n",
       "year               int64\n",
       "selling_price      int64\n",
       "km_driven          int64\n",
       "fuel              object\n",
       "seller_type       object\n",
       "transmission      object\n",
       "owner             object\n",
       "mileage          float64\n",
       "engine           float64\n",
       "max_power        float64\n",
       "seats            float64\n",
       "car_age            int64\n",
       "dtype: object"
      ]
     },
     "execution_count": 40,
     "metadata": {},
     "output_type": "execute_result"
    }
   ],
   "source": [
    "df.dtypes\n"
   ]
  },
  {
   "cell_type": "code",
   "execution_count": 41,
   "id": "bf06c39a",
   "metadata": {},
   "outputs": [
    {
     "name": "stdout",
     "output_type": "stream",
     "text": [
      "Owner Types: ['First Owner' 'Second Owner' 'Third Owner' 'Fourth & Above Owner'\n",
      " 'Test Drive Car']\n"
     ]
    }
   ],
   "source": [
    "#next thing that I analysed is, we can convert \"owner\" to numerical format for proper predictions\n",
    "#lets first check the unique values\n",
    "print(\"Owner Types:\", df['owner'].unique())\n"
   ]
  },
  {
   "cell_type": "code",
   "execution_count": 42,
   "id": "7b80acbb",
   "metadata": {},
   "outputs": [],
   "source": [
    "#replacing the values accordingly\n",
    "owner_mapping = {\n",
    "    'First Owner': 0,\n",
    "    'Second Owner': 1,\n",
    "    'Third Owner': 2,\n",
    "    'Fourth & Above Owner': 3,\n",
    "    'Test Drive Car': -1 \n",
    "}\n",
    "\n",
    "df['owner'] = df['owner'].map(owner_mapping)\n"
   ]
  },
  {
   "cell_type": "code",
   "execution_count": 43,
   "id": "7eac05d0",
   "metadata": {},
   "outputs": [
    {
     "name": "stdout",
     "output_type": "stream",
     "text": [
      "Owner Types: [ 0  1  2  3 -1]\n"
     ]
    }
   ],
   "source": [
    "print(\"Owner Types:\", df['owner'].unique())"
   ]
  }
 ],
 "metadata": {
  "kernelspec": {
   "display_name": "Python 3",
   "language": "python",
   "name": "python3"
  },
  "language_info": {
   "codemirror_mode": {
    "name": "ipython",
    "version": 3
   },
   "file_extension": ".py",
   "mimetype": "text/x-python",
   "name": "python",
   "nbconvert_exporter": "python",
   "pygments_lexer": "ipython3",
   "version": "3.10.0"
  }
 },
 "nbformat": 4,
 "nbformat_minor": 5
}
